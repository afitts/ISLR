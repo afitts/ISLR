{
 "cells": [
  {
   "cell_type": "markdown",
   "metadata": {},
   "source": [
    "# Chapter 3 Exercises"
   ]
  },
  {
   "cell_type": "markdown",
   "metadata": {},
   "source": [
    "1. The small p values for TV and radio correspond to the low probability of observing the t statistics we see by chance. Hence TV and radio *do* have a relationship with the response, sales. However, newspaper’s large p-value corresponds to an unlikely relationship with sales or a very weak one.\n",
    "2. The difference between the KNN classifier and KNN regression methods is KNN classifiers results in a qualitative classification of $X$ into a specific group while KNN regression methods are used to non parametrically fit many valued observations ($f(x)$).\n",
    "3. * a. i. False. ii. False. iii. False. iv. iv.True. $X_5$ dominates for high enough GPA, thus meaning on average males make more for high enough GPA.\n",
    " * b. $Y=50+20\\cdot(4.0)+0.07\\cdot(110)+35+0.01(4.0\\cdot110)-10(4.0) = 137.1$ thousand $$\n",
    " * c. False. There can be an interaction effect; it’s just not a strong effect. Need to look at the associated p-value to determine whether the GPA*IQ interaction term is significant or not.\n",
    "4. * a.\tThe cubic regression may give the tighter fit on the training data (i.e. lower RSS) but there’s no telling whether this is over fitting to the data or not. This scenario is more likely with a larger epsilon. \n",
    " * b. The linear regression will certainly give a better fit to test data than the cubic regression as it expects data pulled from a linear relation while the cubic regression will not only expect a different relation but will also have the possibility of being incorrectly fit to the noise in the training set.\n",
    " * c.In most cases one would expect the cubic regression to fare better as it has a more flexible fit; however, if the actual relation is linear than one might expect a better fit from the linear.\n",
    " * d. Not clear."
   ]
  },
  {
   "cell_type": "code",
   "execution_count": null,
   "metadata": {
    "collapsed": true
   },
   "outputs": [],
   "source": []
  }
 ],
 "metadata": {
  "kernelspec": {
   "display_name": "R",
   "language": "R",
   "name": "ir"
  },
  "language_info": {
   "codemirror_mode": "r",
   "file_extension": ".r",
   "mimetype": "text/x-r-source",
   "name": "R",
   "pygments_lexer": "r",
   "version": "3.3.1"
  }
 },
 "nbformat": 4,
 "nbformat_minor": 0
}
